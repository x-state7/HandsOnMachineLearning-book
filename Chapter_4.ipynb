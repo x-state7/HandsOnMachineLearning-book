{
  "nbformat": 4,
  "nbformat_minor": 0,
  "metadata": {
    "colab": {
      "provenance": [],
      "authorship_tag": "ABX9TyPgcrjJpaVm7IbpqhmtGvrj",
      "include_colab_link": true
    },
    "kernelspec": {
      "name": "python3",
      "display_name": "Python 3"
    },
    "language_info": {
      "name": "python"
    }
  },
  "cells": [
    {
      "cell_type": "markdown",
      "metadata": {
        "id": "view-in-github",
        "colab_type": "text"
      },
      "source": [
        "<a href=\"https://colab.research.google.com/github/x-state7/Machine-Learn/blob/main/Chapter_4.ipynb\" target=\"_parent\"><img src=\"https://colab.research.google.com/assets/colab-badge.svg\" alt=\"Open In Colab\"/></a>"
      ]
    },
    {
      "cell_type": "code",
      "execution_count": null,
      "metadata": {
        "id": "5Hwb559u1F7k"
      },
      "outputs": [],
      "source": [
        "import numpy as np\n",
        "X=2*np.random.rand(100,1)\n",
        "\n",
        "y=4+3*X+np.random.randn(100,1)"
      ]
    },
    {
      "cell_type": "code",
      "source": [
        "#np.ones((100,1)):This part creates a column vector of ones with a shape of (100, 1).The function\n",
        "#np.ones() from NumPy generates an array filled with ones, and (100, 1)\n",
        "#np.c_[...]:concatenates arrays along the second axis\n",
        "X_b=np.c_[np.ones((100,1)),X]\n",
        "\n",
        "# θbest​=(XbT​⋅Xb​)^−1⋅XbT​⋅y\n",
        "theta_best=np.linalg.inv(X_b.T.dot(X_b)).dot(X_b.T).dot(y)"
      ],
      "metadata": {
        "id": "kZbHHTxX3HSz"
      },
      "execution_count": null,
      "outputs": []
    },
    {
      "cell_type": "code",
      "source": [
        "theta_best"
      ],
      "metadata": {
        "colab": {
          "base_uri": "https://localhost:8080/"
        },
        "id": "jWFklgCu4FHf",
        "outputId": "fcdcf16a-4bca-4541-8742-ccb7cdbdab83"
      },
      "execution_count": null,
      "outputs": [
        {
          "output_type": "execute_result",
          "data": {
            "text/plain": [
              "array([[4.20533231],\n",
              "       [2.94509466]])"
            ]
          },
          "metadata": {},
          "execution_count": 4
        }
      ]
    },
    {
      "cell_type": "code",
      "source": [
        "X_new=np.array([[0],[2]])\n",
        "X_new_b=np.c_[np.ones((2,1)),X_new]\n",
        "y_predict=X_new_b.dot(theta_best)\n",
        "y_predict"
      ],
      "metadata": {
        "colab": {
          "base_uri": "https://localhost:8080/"
        },
        "id": "tiSbRV1q3eOm",
        "outputId": "e63a13ee-036f-4f90-ca70-adfee4f1a4a2"
      },
      "execution_count": null,
      "outputs": [
        {
          "output_type": "execute_result",
          "data": {
            "text/plain": [
              "array([[ 4.20533231],\n",
              "       [10.09552164]])"
            ]
          },
          "metadata": {},
          "execution_count": 5
        }
      ]
    },
    {
      "cell_type": "code",
      "source": [
        "import matplotlib.pyplot as plt\n",
        "# be red (r) and solid (-).\n",
        "# This represents the regression line predicted by the model for the new data points.\n",
        "plt.plot(X_new,y_predict,\"r-\")\n",
        "\n",
        "# blue (b) and represented as dots (.)\n",
        "plt.plot(X,y,\"b.\")\n",
        "plt.legend(\"predictions\")\n",
        "plt.axis([0,2,0,15])\n",
        "plt.show"
      ],
      "metadata": {
        "id": "UMHnGK854cyv",
        "colab": {
          "base_uri": "https://localhost:8080/",
          "height": 600
        },
        "outputId": "62a14e92-e7ae-4c5e-8e77-18231fd030a5"
      },
      "execution_count": null,
      "outputs": [
        {
          "output_type": "execute_result",
          "data": {
            "text/plain": [
              "<function matplotlib.pyplot.show(close=None, block=None)>"
            ],
            "text/html": [
              "<div style=\"max-width:800px; border: 1px solid var(--colab-border-color);\"><style>\n",
              "      pre.function-repr-contents {\n",
              "        overflow-x: auto;\n",
              "        padding: 8px 12px;\n",
              "        max-height: 500px;\n",
              "      }\n",
              "\n",
              "      pre.function-repr-contents.function-repr-contents-collapsed {\n",
              "        cursor: pointer;\n",
              "        max-height: 100px;\n",
              "      }\n",
              "    </style>\n",
              "    <pre style=\"white-space: initial; background:\n",
              "         var(--colab-secondary-surface-color); padding: 8px 12px;\n",
              "         border-bottom: 1px solid var(--colab-border-color);\"><b>matplotlib.pyplot.show</b><br/>def show(*args, **kwargs)</pre><pre class=\"function-repr-contents function-repr-contents-collapsed\" style=\"\"><a class=\"filepath\" style=\"display:none\" href=\"#\">/usr/local/lib/python3.10/dist-packages/matplotlib/pyplot.py</a>Display all open figures.\n",
              "\n",
              "Parameters\n",
              "----------\n",
              "block : bool, optional\n",
              "    Whether to wait for all figures to be closed before returning.\n",
              "\n",
              "    If `True` block and run the GUI main loop until all figure windows\n",
              "    are closed.\n",
              "\n",
              "    If `False` ensure that all figure windows are displayed and return\n",
              "    immediately.  In this case, you are responsible for ensuring\n",
              "    that the event loop is running to have responsive figures.\n",
              "\n",
              "    Defaults to True in non-interactive mode and to False in interactive\n",
              "    mode (see `.pyplot.isinteractive`).\n",
              "\n",
              "See Also\n",
              "--------\n",
              "ion : Enable interactive mode, which shows / updates the figure after\n",
              "      every plotting command, so that calling ``show()`` is not necessary.\n",
              "ioff : Disable interactive mode.\n",
              "savefig : Save the figure to an image file instead of showing it on screen.\n",
              "\n",
              "Notes\n",
              "-----\n",
              "**Saving figures to file and showing a window at the same time**\n",
              "\n",
              "If you want an image file as well as a user interface window, use\n",
              "`.pyplot.savefig` before `.pyplot.show`. At the end of (a blocking)\n",
              "``show()`` the figure is closed and thus unregistered from pyplot. Calling\n",
              "`.pyplot.savefig` afterwards would save a new and thus empty figure. This\n",
              "limitation of command order does not apply if the show is non-blocking or\n",
              "if you keep a reference to the figure and use `.Figure.savefig`.\n",
              "\n",
              "**Auto-show in jupyter notebooks**\n",
              "\n",
              "The jupyter backends (activated via ``%matplotlib inline``,\n",
              "``%matplotlib notebook``, or ``%matplotlib widget``), call ``show()`` at\n",
              "the end of every cell by default. Thus, you usually don&#x27;t have to call it\n",
              "explicitly there.</pre>\n",
              "      <script>\n",
              "      if (google.colab.kernel.accessAllowed && google.colab.files && google.colab.files.view) {\n",
              "        for (const element of document.querySelectorAll('.filepath')) {\n",
              "          element.style.display = 'block'\n",
              "          element.onclick = (event) => {\n",
              "            event.preventDefault();\n",
              "            event.stopPropagation();\n",
              "            google.colab.files.view(element.textContent, 401);\n",
              "          };\n",
              "        }\n",
              "      }\n",
              "      for (const element of document.querySelectorAll('.function-repr-contents')) {\n",
              "        element.onclick = (event) => {\n",
              "          event.preventDefault();\n",
              "          event.stopPropagation();\n",
              "          element.classList.toggle('function-repr-contents-collapsed');\n",
              "        };\n",
              "      }\n",
              "      </script>\n",
              "      </div>"
            ]
          },
          "metadata": {},
          "execution_count": 6
        },
        {
          "output_type": "display_data",
          "data": {
            "text/plain": [
              "<Figure size 640x480 with 1 Axes>"
            ],
            "image/png": "[encoded data removed]"
          },
          "metadata": {}
        }
      ]
    },
    {
      "cell_type": "code",
      "source": [
        "from sklearn.linear_model import LinearRegression\n",
        "lin_reg=LinearRegression()\n",
        "lin_reg.fit(X,y)\n",
        "\n",
        "# intercept_ attribute represents the intercept term (bias),\n",
        "# and the coef_ attribute represents the coefficients for the input features.\n",
        "lin_reg.intercept_,lin_reg.coef_"
      ],
      "metadata": {
        "id": "BEj6EQPh4wLn",
        "colab": {
          "base_uri": "https://localhost:8080/"
        },
        "outputId": "d9b4e18e-bac2-4cff-a939-66a9631266b4"
      },
      "execution_count": null,
      "outputs": [
        {
          "output_type": "execute_result",
          "data": {
            "text/plain": [
              "(array([4.20533231]), array([[2.94509466]]))"
            ]
          },
          "metadata": {},
          "execution_count": 7
        }
      ]
    },
    {
      "cell_type": "markdown",
      "source": [
        "LinearRegression class is based on the scipy.linalg.lstsq() function (the\n",
        "name stands for “least squares”), which you could call directly:"
      ],
      "metadata": {
        "id": "ajnKTDJySPsN"
      }
    },
    {
      "cell_type": "markdown",
      "source": [
        "rcond=1e-6: This parameter sets the threshold for singular values to determine the effective rank of X_b. Singular values smaller than rcond * max(s) are considered zero. This helps handle singular or nearly singular matrices.\n"
      ],
      "metadata": {
        "id": "6810JLylS6uR"
      }
    },
    {
      "cell_type": "markdown",
      "source": [
        "**np.linalg.lstsq(...):** This function computes the least-squares solution to a linear matrix equation\n",
        "\n",
        "**theta_best_svd: **This variable holds the solution to the linear regression problem, i.e., the optimal parameters (coefficients) of the linear model.\n",
        "\n",
        "**residuals: **This variable holds the sum of squared residuals of the least-squares fit.\n",
        "\n",
        "**rank: **This variable holds the rank of the augmented feature matrix X_b.\n",
        "\n",
        "**s:** This variable holds the singular values of X_b."
      ],
      "metadata": {
        "id": "-ELfrIz8TOna"
      }
    },
    {
      "cell_type": "code",
      "source": [
        "theta_best_svd,residualas,rank,s=np.linalg.lstsq(X_b,y,rcond=1e-6)\n",
        "theta_best_svd"
      ],
      "metadata": {
        "colab": {
          "base_uri": "https://localhost:8080/"
        },
        "id": "bn0GHYbtSQ5N",
        "outputId": "046064c8-e9a2-400b-fdab-2d0159c2dcc8"
      },
      "execution_count": null,
      "outputs": [
        {
          "output_type": "execute_result",
          "data": {
            "text/plain": [
              "array([[4.20533231],\n",
              "       [2.94509466]])"
            ]
          },
          "metadata": {},
          "execution_count": 8
        }
      ]
    },
    {
      "cell_type": "code",
      "source": [
        "lin_reg.predict(X_new)"
      ],
      "metadata": {
        "colab": {
          "base_uri": "https://localhost:8080/"
        },
        "id": "b30AGztFNDHt",
        "outputId": "9045764d-b4e4-43ef-9afa-ffcccc7ac66f"
      },
      "execution_count": null,
      "outputs": [
        {
          "output_type": "execute_result",
          "data": {
            "text/plain": [
              "array([[ 4.20533231],\n",
              "       [10.09552164]])"
            ]
          },
          "metadata": {},
          "execution_count": 9
        }
      ]
    },
    {
      "cell_type": "markdown",
      "source": [
        "computes θ = X+y, where X^+ is the pseudoinverse of X (specifically the\n",
        "Moore-Penrose inverse). You can use np.linalg.pinv() to compute the pseudoin‐\n",
        "verse directly:"
      ],
      "metadata": {
        "id": "PsxUKF8KOR68"
      }
    },
    {
      "cell_type": "code",
      "source": [
        "np.linalg.pinv(X_b).dot(y)"
      ],
      "metadata": {
        "colab": {
          "base_uri": "https://localhost:8080/"
        },
        "id": "qV9zUfRqNKLm",
        "outputId": "f74051ec-54f9-4e3e-aaa9-bb57a0c2e9ca"
      },
      "execution_count": null,
      "outputs": [
        {
          "output_type": "execute_result",
          "data": {
            "text/plain": [
              "array([[4.20533231],\n",
              "       [2.94509466]])"
            ]
          },
          "metadata": {},
          "execution_count": 10
        }
      ]
    },
    {
      "cell_type": "markdown",
      "source": [
        "Now we will look at very different ways to train a Linear Regression model, better\n",
        "suited for cases where there are a large number of features, or too many training\n",
        "instances to fit in memory."
      ],
      "metadata": {
        "id": "nKvCZYN5UgWK"
      }
    },
    {
      "cell_type": "markdown",
      "source": [
        "#                    **Gradient Descent**"
      ],
      "metadata": {
        "id": "fekw5e5pUiFR"
      }
    },
    {
      "cell_type": "markdown",
      "source": [
        "### **Batch Gradient Descent**\n"
      ],
      "metadata": {
        "id": "HVPittgwW6cn"
      }
    },
    {
      "cell_type": "markdown",
      "source": [
        "Equation 4-6. Gradient vector of cost function\n",
        "∇θ MSE θ = 2/m X^T (Xθ - y)\n",
        "\n",
        "Equation 4-7. Gradient Descent step\n",
        "θ next step = θ - η ∇θ MSE (θ)"
      ],
      "metadata": {
        "id": "YRytnJk1ZCNW"
      }
    },
    {
      "cell_type": "code",
      "source": [
        "eta=0.1\n",
        "n_iterations=1000\n",
        "m=100\n",
        "theta=np.random.randn(2,1) #random initialization\n",
        "for iteration in range(n_iterations):\n",
        "  gradients=2/m*X_b.T.dot(X_b.dot(theta)-y)\n",
        "  theta=theta-eta*gradients"
      ],
      "metadata": {
        "id": "E_778el1WGYR"
      },
      "execution_count": null,
      "outputs": []
    },
    {
      "cell_type": "code",
      "source": [
        "theta"
      ],
      "metadata": {
        "colab": {
          "base_uri": "https://localhost:8080/"
        },
        "id": "g9C0lVQ_Ocaf",
        "outputId": "b91ad50b-01f3-4fde-ed1d-1329b91e3eaf"
      },
      "execution_count": null,
      "outputs": [
        {
          "output_type": "execute_result",
          "data": {
            "text/plain": [
              "array([[4.20533231],\n",
              "       [2.94509466]])"
            ]
          },
          "metadata": {},
          "execution_count": 12
        }
      ]
    },
    {
      "cell_type": "markdown",
      "source": [
        "### **Stochastic Gradient Descent**"
      ],
      "metadata": {
        "id": "8DNUK2wdyfmh"
      }
    },
    {
      "cell_type": "markdown",
      "source": [
        "When the cost function is very irregular this can actually help the\n",
        "algorithm jump out of local minima, so Stochastic Gradient Descent has a better\n",
        "chance of finding the global minimum than Batch Gradient Descent does.\n",
        "Therefore randomness is good to escape from local optima, but bad because it means\n",
        "that the algorithm can never settle at the minimum. One solution to this dilemma is\n",
        "to gradually reduce the learning rate"
      ],
      "metadata": {
        "id": "ZttXxEoqzPdC"
      }
    },
    {
      "cell_type": "code",
      "source": [
        "n_epochs=50\n",
        "t0,t1=5,50 #learning schedule hyperparameters\n",
        "def learning_schedule(t):\n",
        "  return t0/(t+t1)\n",
        "\n",
        "theta=np.random.randn(2,1)#random initialiszation\n",
        "for epoch in range(n_epochs):\n",
        "    for i in range(m):\n",
        "      random_index=np.random.randint(m)\n",
        "      xi=X_b[random_index:random_index+1]\n",
        "      yi=y[random_index:random_index+1]\n",
        "      gradients=2*xi.T.dot(xi.dot(theta)-yi)\n",
        "      eta=learning_schedule(epoch*m+i)\n",
        "      theta=theta-eta*gradients"
      ],
      "metadata": {
        "id": "xUMnQrn8zPM9"
      },
      "execution_count": null,
      "outputs": []
    },
    {
      "cell_type": "code",
      "source": [
        "theta"
      ],
      "metadata": {
        "id": "8V5etdhMa_s-",
        "colab": {
          "base_uri": "https://localhost:8080/"
        },
        "outputId": "3a5cb702-52a0-4d65-a0a0-aece5e9b9e86"
      },
      "execution_count": null,
      "outputs": [
        {
          "output_type": "execute_result",
          "data": {
            "text/plain": [
              "array([[4.25820872],\n",
              "       [2.97439057]])"
            ]
          },
          "metadata": {},
          "execution_count": 14
        }
      ]
    },
    {
      "cell_type": "markdown",
      "source": [
        "perform Linear Regression using SGD with Scikit-Learn, you can use the SGDRe\n",
        "gressor class, which defaults to optimizing the squared error cost function. The fol‐\n",
        "lowing code runs for maximum 1000 epochs (max_iter=1000) or until the loss drops\n",
        "by less than 1e-3 during one epoch (tol=1e-3), starting with a learning rate of 0.1\n",
        "\n"
      ],
      "metadata": {
        "id": "9QFZ2ZyF2zqJ"
      }
    },
    {
      "cell_type": "code",
      "source": [
        "# max_iter=1000: Maximum number of iterations (epochs) the model will be trained for.\n",
        "# tol=1e-3: Tolerance to declare convergence. If the improvement is less than this value, the optimization process is stopped.\n",
        "# penalty=None: No regularization penalty is applied\n",
        "from sklearn.linear_model import SGDRegressor\n",
        "sgd_reg = SGDRegressor(max_iter=1000, tol=1e-3, penalty=None, eta0=0.1)\n",
        "sgd_reg.fit(X, y.ravel())"
      ],
      "metadata": {
        "colab": {
          "base_uri": "https://localhost:8080/",
          "height": 75
        },
        "id": "6BV3_c_102kD",
        "outputId": "5b8c98e6-c1e3-4af1-845d-99d48aa76255"
      },
      "execution_count": null,
      "outputs": [
        {
          "output_type": "execute_result",
          "data": {
            "text/plain": [
              "SGDRegressor(eta0=0.1, penalty=None)"
            ],
            "text/html": [
              "<style>#sk-container-id-1 {color: black;background-color: white;}#sk-container-id-1 pre{padding: 0;}#sk-container-id-1 div.sk-toggleable {background-color: white;}#sk-container-id-1 label.sk-toggleable__label {cursor: pointer;display: block;width: 100%;margin-bottom: 0;padding: 0.3em;box-sizing: border-box;text-align: center;}#sk-container-id-1 label.sk-toggleable__label-arrow:before {content: \"▸\";float: left;margin-right: 0.25em;color: #696969;}#sk-container-id-1 label.sk-toggleable__label-arrow:hover:before {color: black;}#sk-container-id-1 div.sk-estimator:hover label.sk-toggleable__label-arrow:before {color: black;}#sk-container-id-1 div.sk-toggleable__content {max-height: 0;max-width: 0;overflow: hidden;text-align: left;background-color: #f0f8ff;}#sk-container-id-1 div.sk-toggleable__content pre {margin: 0.2em;color: black;border-radius: 0.25em;background-color: #f0f8ff;}#sk-container-id-1 input.sk-toggleable__control:checked~div.sk-toggleable__content {max-height: 200px;max-width: 100%;overflow: auto;}#sk-container-id-1 input.sk-toggleable__control:checked~label.sk-toggleable__label-arrow:before {content: \"▾\";}#sk-container-id-1 div.sk-estimator input.sk-toggleable__control:checked~label.sk-toggleable__label {background-color: #d4ebff;}#sk-container-id-1 div.sk-label input.sk-toggleable__control:checked~label.sk-toggleable__label {background-color: #d4ebff;}#sk-container-id-1 input.sk-hidden--visually {border: 0;clip: rect(1px 1px 1px 1px);clip: rect(1px, 1px, 1px, 1px);height: 1px;margin: -1px;overflow: hidden;padding: 0;position: absolute;width: 1px;}#sk-container-id-1 div.sk-estimator {font-family: monospace;background-color: #f0f8ff;border: 1px dotted black;border-radius: 0.25em;box-sizing: border-box;margin-bottom: 0.5em;}#sk-container-id-1 div.sk-estimator:hover {background-color: #d4ebff;}#sk-container-id-1 div.sk-parallel-item::after {content: \"\";width: 100%;border-bottom: 1px solid gray;flex-grow: 1;}#sk-container-id-1 div.sk-label:hover label.sk-toggleable__label {background-color: #d4ebff;}#sk-container-id-1 div.sk-serial::before {content: \"\";position: absolute;border-left: 1px solid gray;box-sizing: border-box;top: 0;bottom: 0;left: 50%;z-index: 0;}#sk-container-id-1 div.sk-serial {display: flex;flex-direction: column;align-items: center;background-color: white;padding-right: 0.2em;padding-left: 0.2em;position: relative;}#sk-container-id-1 div.sk-item {position: relative;z-index: 1;}#sk-container-id-1 div.sk-parallel {display: flex;align-items: stretch;justify-content: center;background-color: white;position: relative;}#sk-container-id-1 div.sk-item::before, #sk-container-id-1 div.sk-parallel-item::before {content: \"\";position: absolute;border-left: 1px solid gray;box-sizing: border-box;top: 0;bottom: 0;left: 50%;z-index: -1;}#sk-container-id-1 div.sk-parallel-item {display: flex;flex-direction: column;z-index: 1;position: relative;background-color: white;}#sk-container-id-1 div.sk-parallel-item:first-child::after {align-self: flex-end;width: 50%;}#sk-container-id-1 div.sk-parallel-item:last-child::after {align-self: flex-start;width: 50%;}#sk-container-id-1 div.sk-parallel-item:only-child::after {width: 0;}#sk-container-id-1 div.sk-dashed-wrapped {border: 1px dashed gray;margin: 0 0.4em 0.5em 0.4em;box-sizing: border-box;padding-bottom: 0.4em;background-color: white;}#sk-container-id-1 div.sk-label label {font-family: monospace;font-weight: bold;display: inline-block;line-height: 1.2em;}#sk-container-id-1 div.sk-label-container {text-align: center;}#sk-container-id-1 div.sk-container {/* jupyter's `normalize.less` sets `[hidden] { display: none; }` but bootstrap.min.css set `[hidden] { display: none !important; }` so we also need the `!important` here to be able to override the default hidden behavior on the sphinx rendered scikit-learn.org. See: https://github.com/scikit-learn/scikit-learn/issues/21755 */display: inline-block !important;position: relative;}#sk-container-id-1 div.sk-text-repr-fallback {display: none;}</style><div id=\"sk-container-id-1\" class=\"sk-top-container\"><div class=\"sk-text-repr-fallback\"><pre>SGDRegressor(eta0=0.1, penalty=None)</pre><b>In a Jupyter environment, please rerun this cell to show the HTML representation or trust the notebook. <br />On GitHub, the HTML representation is unable to render, please try loading this page with nbviewer.org.</b></div><div class=\"sk-container\" hidden><div class=\"sk-item\"><div class=\"sk-estimator sk-toggleable\"><input class=\"sk-toggleable__control sk-hidden--visually\" id=\"sk-estimator-id-1\" type=\"checkbox\" checked><label for=\"sk-estimator-id-1\" class=\"sk-toggleable__label sk-toggleable__label-arrow\">SGDRegressor</label><div class=\"sk-toggleable__content\"><pre>SGDRegressor(eta0=0.1, penalty=None)</pre></div></div></div></div></div>"
            ]
          },
          "metadata": {},
          "execution_count": 15
        }
      ]
    },
    {
      "cell_type": "code",
      "source": [
        "sgd_reg.intercept_, sgd_reg.coef_"
      ],
      "metadata": {
        "id": "1X-rp5Bk3HrG",
        "outputId": "c1b3b261-e49d-4fff-ab7b-25a7d9e799f4",
        "colab": {
          "base_uri": "https://localhost:8080/"
        }
      },
      "execution_count": null,
      "outputs": [
        {
          "output_type": "execute_result",
          "data": {
            "text/plain": [
              "(array([4.16755217]), array([2.97584066]))"
            ]
          },
          "metadata": {},
          "execution_count": 16
        }
      ]
    },
    {
      "cell_type": "markdown",
      "source": [
        "### **Mini-batch Gradient Descent**"
      ],
      "metadata": {
        "id": "wubb2jmiwkEj"
      }
    },
    {
      "cell_type": "markdown",
      "source": [
        "The algorithm’s progress in parameter space is less erratic than with SGD, especially\n",
        "with fairly large mini-batches. As a result, Mini-batch GD will end up walking\n",
        "around a bit closer to the minimum than SGD. But, on the other hand, it may be\n",
        "harder for it to escape from local minima (in the case of problems that suffer from\n",
        "local minima, unlike Linear Regression as we saw earlier). Figure 4-11 shows the\n",
        "paths taken by the three Gradient Descent algorithms in parameter space during\n",
        "training. They all end up near the minimum, but Batch GD’s path actually stops at the\n",
        "minimum, while both Stochastic GD and Mini-batch GD continue to walk around.\n",
        "However, don’t forget that Batch GD takes a lot of time to take each step, and Stochas‐\n",
        "tic GD and Mini-batch GD would also reach the minimum if you used a good learn‐\n",
        "ing schedule.\n"
      ],
      "metadata": {
        "id": "BduKflVbySJi"
      }
    },
    {
      "cell_type": "markdown",
      "source": [
        "### **Polynomial egression**"
      ],
      "metadata": {
        "id": "V03q8sJ7y0ro"
      }
    },
    {
      "cell_type": "markdown",
      "source": [
        "if your data is actually more complex than a simple straight line? Surprisingly,\n",
        "you can actually use a linear model to fit nonlinear data. A simple way to do this is to\n",
        "add powers of each feature as new features, then train a linear model on this extended\n",
        "set of features. This technique is called Polynomial Regression."
      ],
      "metadata": {
        "id": "z3Z7jjf3zCGy"
      }
    },
    {
      "cell_type": "code",
      "source": [
        "# m is the number of training instances and n is the number of features\n",
        "m=100\n",
        "X=6*np.random.rand(m,1)-3\n",
        "y=0.5*X**2+X+2+np.random.randn(m,1)"
      ],
      "metadata": {
        "id": "6txtq718y0Wa"
      },
      "execution_count": null,
      "outputs": []
    },
    {
      "cell_type": "code",
      "source": [
        "import matplotlib.pyplot as plt\n",
        "plt.scatter(X,y,color=\"blue\",label=\"Data points\")\n",
        "plt.xlabel('X')\n",
        "plt.ylabel('y')\n",
        "plt.show()"
      ],
      "metadata": {
        "id": "gyfP-SMH3JAO",
        "colab": {
          "base_uri": "https://localhost:8080/",
          "height": 450
        },
        "outputId": "c8276748-4917-439a-da2c-90bfcc8523c4"
      },
      "execution_count": null,
      "outputs": [
        {
          "output_type": "display_data",
          "data": {
            "text/plain": [
              "<Figure size 640x480 with 1 Axes>"
            ],
            "image/png": "[encoded data removed]"
          },
          "metadata": {}
        }
      ]
    },
    {
      "cell_type": "markdown",
      "source": [
        "Clearly, a straight line will never fit this data properly. So let’s use Scikit-Learn’s Poly\n",
        "nomialFeatures class to transform our training data, adding the square (2nd-degree\n",
        "polynomial) of each feature in the training set as new features (in this case there is\n",
        "just one feature):"
      ],
      "metadata": {
        "id": "rSZ_Du8Z1AIT"
      }
    },
    {
      "cell_type": "code",
      "source": [
        "from sklearn.preprocessing import PolynomialFeatures\n",
        "poly_features=PolynomialFeatures(degree=2,include_bias=False)\n",
        "X_poly=poly_features.fit_transform(X)\n",
        "X[0]"
      ],
      "metadata": {
        "colab": {
          "base_uri": "https://localhost:8080/"
        },
        "id": "_EaUebO3z7ue",
        "outputId": "eddcdae5-c7ec-4235-9063-a153e5827093"
      },
      "execution_count": null,
      "outputs": [
        {
          "output_type": "execute_result",
          "data": {
            "text/plain": [
              "array([1.76125419])"
            ]
          },
          "metadata": {},
          "execution_count": 19
        }
      ]
    },
    {
      "cell_type": "code",
      "source": [
        "X_poly[0]"
      ],
      "metadata": {
        "colab": {
          "base_uri": "https://localhost:8080/"
        },
        "id": "WPnHm8c211d9",
        "outputId": "bf5f901b-ba9a-4a14-ab30-1ee144c9b946"
      },
      "execution_count": null,
      "outputs": [
        {
          "output_type": "execute_result",
          "data": {
            "text/plain": [
              "array([1.76125419, 3.10201632])"
            ]
          },
          "metadata": {},
          "execution_count": 20
        }
      ]
    },
    {
      "cell_type": "markdown",
      "source": [
        "X_poly now contains the original feature of X plus the square of this feature. Now you\n",
        "can fit a LinearRegression model to this extended training data"
      ],
      "metadata": {
        "id": "bgc3aM-X3BBE"
      }
    },
    {
      "cell_type": "code",
      "source": [
        "lin_reg=LinearRegression()\n",
        "lin_reg.fit(X_poly,y)\n",
        "lin_reg.intercept_,lin_reg.coef_"
      ],
      "metadata": {
        "colab": {
          "base_uri": "https://localhost:8080/"
        },
        "id": "hOmqHr_O2AEc",
        "outputId": "c895d794-96df-4fb0-9925-496b6463d4b9"
      },
      "execution_count": null,
      "outputs": [
        {
          "output_type": "execute_result",
          "data": {
            "text/plain": [
              "(array([1.99909319]), array([[1.00087855, 0.51782156]]))"
            ]
          },
          "metadata": {},
          "execution_count": 21
        }
      ]
    },
    {
      "cell_type": "code",
      "source": [
        "\n",
        "# Plot original data points\n",
        "plt.figure(facecolor='darkgrey')  # Set the background color of the figure\n",
        "plt.scatter(X, y, color='blue', label='Data points')\n",
        "X_new = np.linspace(-3, 3, 100).reshape(-1, 1)\n",
        "X_new_poly = poly_features.transform(X_new)\n",
        "y_new = lin_reg.predict(X_new_poly)\n",
        "plt.plot(X_new, y_new, color='red', label='Fitted curve')\n",
        "\n",
        "plt.xlabel('X')\n",
        "plt.ylabel('y')\n",
        "plt.title('Fitted Curve using Polynomial Regression')\n",
        "plt.legend()\n",
        "plt.gca().set_facecolor('darkgrey')\n",
        "\n",
        "plt.show()"
      ],
      "metadata": {
        "id": "8qlWzaba2gHV",
        "colab": {
          "base_uri": "https://localhost:8080/",
          "height": 472
        },
        "outputId": "d7c59541-fb20-4543-edba-c47251b9362d"
      },
      "execution_count": null,
      "outputs": [
        {
          "output_type": "display_data",
          "data": {
            "text/plain": [
              "<Figure size 640x480 with 1 Axes>"
            ],
            "image/png": "[encoded data removed]"
          },
          "metadata": {}
        }
      ]
    },
    {
      "cell_type": "markdown",
      "source": [
        "LEARNING CURVES"
      ],
      "metadata": {
        "id": "cM6o2Qxi29cv"
      }
    },
    {
      "cell_type": "code",
      "source": [
        "from sklearn.metrics import mean_squared_error\n",
        "from sklearn.model_selection import train_test_split\n",
        "\n",
        "def plot_learning_curves(model,X,y):\n",
        "  X_train,X_val,y_train,y_val=train_test_split(X,y,test_size=0.2)\n",
        "  train_errors,val_errors=[],[]#Empty lists are initialized to store training and validation errors.\n",
        "\n",
        "  for m in range(1,len(X_train)):\n",
        "#The model is trained on a subset of the training data (increasing in size with each iteration)\n",
        "#and predictions are made both on this subset and on the entire validation set.\n",
        "    model.fit(X_train[:m],y_train[:m])\n",
        "    y_train_predict=model.predict(X_train[:m])\n",
        "    y_val_predict=model.predict(X_val)\n",
        "\n",
        "# mean squared error is calculated between the true target values and the\n",
        "# predicted values for both the training subset and the entire validation set\n",
        "    train_errors.append(mean_squared_error(y_train[:m],y_train_predict))\n",
        "    val_errors.append(mean_squared_error(y_val,y_val_predict))\n",
        "\n",
        "  plt.figure(facecolor='darkgrey')\n",
        "  plt.plot(np.sqrt(train_errors),\"r-+\",linewidth=2,label=\"train\")\n",
        "  plt.plot(np.sqrt(val_errors),\"b-\",linewidth=3,label=\"val\")\n",
        "  plt.legend()\n",
        "  plt.gca().set_facecolor('darkgrey')\n"
      ],
      "metadata": {
        "id": "GcVo38NA29Cn"
      },
      "execution_count": null,
      "outputs": []
    },
    {
      "cell_type": "code",
      "source": [
        "lin_reg=LinearRegression()\n",
        "plot_learning_curves(lin_reg,X,y)"
      ],
      "metadata": {
        "id": "Qwa_eOZ03Xal",
        "colab": {
          "base_uri": "https://localhost:8080/",
          "height": 430
        },
        "outputId": "6e5bff23-c2b3-4ef4-fec9-c1130f670abf"
      },
      "execution_count": null,
      "outputs": [
        {
          "output_type": "display_data",
          "data": {
            "text/plain": [
              "<Figure size 640x480 with 1 Axes>"
            ],
            "image/png": "[encoded data removed]"
          },
          "metadata": {}
        }
      ]
    },
    {
      "cell_type": "markdown",
      "source": [
        "###**Ridge Regression**"
      ],
      "metadata": {
        "id": "-6efKYh3_PJj"
      }
    },
    {
      "cell_type": "code",
      "source": [
        "from sklearn.linear_model import Ridge\n",
        "ridge_reg=Ridge(alpha=1,solver=\"cholesky\")\n",
        "ridge_reg.fit(X,y)"
      ],
      "metadata": {
        "colab": {
          "base_uri": "https://localhost:8080/",
          "height": 75
        },
        "id": "i1E3vrd-6ecv",
        "outputId": "487fa2ad-9308-4899-816c-116629efec67"
      },
      "execution_count": null,
      "outputs": [
        {
          "output_type": "execute_result",
          "data": {
            "text/plain": [
              "Ridge(alpha=1, solver='cholesky')"
            ],
            "text/html": [
              "<style>#sk-container-id-3 {color: black;background-color: white;}#sk-container-id-3 pre{padding: 0;}#sk-container-id-3 div.sk-toggleable {background-color: white;}#sk-container-id-3 label.sk-toggleable__label {cursor: pointer;display: block;width: 100%;margin-bottom: 0;padding: 0.3em;box-sizing: border-box;text-align: center;}#sk-container-id-3 label.sk-toggleable__label-arrow:before {content: \"▸\";float: left;margin-right: 0.25em;color: #696969;}#sk-container-id-3 label.sk-toggleable__label-arrow:hover:before {color: black;}#sk-container-id-3 div.sk-estimator:hover label.sk-toggleable__label-arrow:before {color: black;}#sk-container-id-3 div.sk-toggleable__content {max-height: 0;max-width: 0;overflow: hidden;text-align: left;background-color: #f0f8ff;}#sk-container-id-3 div.sk-toggleable__content pre {margin: 0.2em;color: black;border-radius: 0.25em;background-color: #f0f8ff;}#sk-container-id-3 input.sk-toggleable__control:checked~div.sk-toggleable__content {max-height: 200px;max-width: 100%;overflow: auto;}#sk-container-id-3 input.sk-toggleable__control:checked~label.sk-toggleable__label-arrow:before {content: \"▾\";}#sk-container-id-3 div.sk-estimator input.sk-toggleable__control:checked~label.sk-toggleable__label {background-color: #d4ebff;}#sk-container-id-3 div.sk-label input.sk-toggleable__control:checked~label.sk-toggleable__label {background-color: #d4ebff;}#sk-container-id-3 input.sk-hidden--visually {border: 0;clip: rect(1px 1px 1px 1px);clip: rect(1px, 1px, 1px, 1px);height: 1px;margin: -1px;overflow: hidden;padding: 0;position: absolute;width: 1px;}#sk-container-id-3 div.sk-estimator {font-family: monospace;background-color: #f0f8ff;border: 1px dotted black;border-radius: 0.25em;box-sizing: border-box;margin-bottom: 0.5em;}#sk-container-id-3 div.sk-estimator:hover {background-color: #d4ebff;}#sk-container-id-3 div.sk-parallel-item::after {content: \"\";width: 100%;border-bottom: 1px solid gray;flex-grow: 1;}#sk-container-id-3 div.sk-label:hover label.sk-toggleable__label {background-color: #d4ebff;}#sk-container-id-3 div.sk-serial::before {content: \"\";position: absolute;border-left: 1px solid gray;box-sizing: border-box;top: 0;bottom: 0;left: 50%;z-index: 0;}#sk-container-id-3 div.sk-serial {display: flex;flex-direction: column;align-items: center;background-color: white;padding-right: 0.2em;padding-left: 0.2em;position: relative;}#sk-container-id-3 div.sk-item {position: relative;z-index: 1;}#sk-container-id-3 div.sk-parallel {display: flex;align-items: stretch;justify-content: center;background-color: white;position: relative;}#sk-container-id-3 div.sk-item::before, #sk-container-id-3 div.sk-parallel-item::before {content: \"\";position: absolute;border-left: 1px solid gray;box-sizing: border-box;top: 0;bottom: 0;left: 50%;z-index: -1;}#sk-container-id-3 div.sk-parallel-item {display: flex;flex-direction: column;z-index: 1;position: relative;background-color: white;}#sk-container-id-3 div.sk-parallel-item:first-child::after {align-self: flex-end;width: 50%;}#sk-container-id-3 div.sk-parallel-item:last-child::after {align-self: flex-start;width: 50%;}#sk-container-id-3 div.sk-parallel-item:only-child::after {width: 0;}#sk-container-id-3 div.sk-dashed-wrapped {border: 1px dashed gray;margin: 0 0.4em 0.5em 0.4em;box-sizing: border-box;padding-bottom: 0.4em;background-color: white;}#sk-container-id-3 div.sk-label label {font-family: monospace;font-weight: bold;display: inline-block;line-height: 1.2em;}#sk-container-id-3 div.sk-label-container {text-align: center;}#sk-container-id-3 div.sk-container {/* jupyter's `normalize.less` sets `[hidden] { display: none; }` but bootstrap.min.css set `[hidden] { display: none !important; }` so we also need the `!important` here to be able to override the default hidden behavior on the sphinx rendered scikit-learn.org. See: https://github.com/scikit-learn/scikit-learn/issues/21755 */display: inline-block !important;position: relative;}#sk-container-id-3 div.sk-text-repr-fallback {display: none;}</style><div id=\"sk-container-id-3\" class=\"sk-top-container\"><div class=\"sk-text-repr-fallback\"><pre>Ridge(alpha=1, solver=&#x27;cholesky&#x27;)</pre><b>In a Jupyter environment, please rerun this cell to show the HTML representation or trust the notebook. <br />On GitHub, the HTML representation is unable to render, please try loading this page with nbviewer.org.</b></div><div class=\"sk-container\" hidden><div class=\"sk-item\"><div class=\"sk-estimator sk-toggleable\"><input class=\"sk-toggleable__control sk-hidden--visually\" id=\"sk-estimator-id-3\" type=\"checkbox\" checked><label for=\"sk-estimator-id-3\" class=\"sk-toggleable__label sk-toggleable__label-arrow\">Ridge</label><div class=\"sk-toggleable__content\"><pre>Ridge(alpha=1, solver=&#x27;cholesky&#x27;)</pre></div></div></div></div></div>"
            ]
          },
          "metadata": {},
          "execution_count": 37
        }
      ]
    },
    {
      "cell_type": "code",
      "source": [
        "ridge_reg.predict([[1.5]])"
      ],
      "metadata": {
        "colab": {
          "base_uri": "https://localhost:8080/"
        },
        "id": "qMLaJqp1B47I",
        "outputId": "52192281-ee0f-46ef-ba6c-f842043869f9"
      },
      "execution_count": null,
      "outputs": [
        {
          "output_type": "execute_result",
          "data": {
            "text/plain": [
              "array([[4.97449599]])"
            ]
          },
          "metadata": {},
          "execution_count": 39
        }
      ]
    },
    {
      "cell_type": "code",
      "source": [
        "from sklearn.linear_model import SGDRegressor\n",
        "sdg_reg=SGDRegressor(penalty=\"12\")\n",
        "sgd_reg.fit(X,y.ravel())\n",
        "sgd_reg.predict([[1.5]])"
      ],
      "metadata": {
        "colab": {
          "base_uri": "https://localhost:8080/"
        },
        "id": "rXWHYOwxB8Ix",
        "outputId": "0e550146-3580-4d2d-f9c0-68bc469f7b99"
      },
      "execution_count": null,
      "outputs": [
        {
          "output_type": "execute_result",
          "data": {
            "text/plain": [
              "array([4.93176234])"
            ]
          },
          "metadata": {},
          "execution_count": 43
        }
      ]
    },
    {
      "cell_type": "markdown",
      "source": [
        "####**LASSO FUNCTION**"
      ],
      "metadata": {
        "id": "B0yFjpuUKybd"
      }
    },
    {
      "cell_type": "code",
      "source": [
        "from sklearn.linear_model import Lasso\n",
        "lasso_reg=Lasso(alpha=0.1)\n",
        "lasso_reg.fit(X,y)\n",
        "lasso_reg.predict([[1.5]])"
      ],
      "metadata": {
        "colab": {
          "base_uri": "https://localhost:8080/"
        },
        "id": "mkEZz5YCCPuX",
        "outputId": "8ff9318d-65ec-4c76-f024-b06f6e0f9472"
      },
      "execution_count": null,
      "outputs": [
        {
          "output_type": "execute_result",
          "data": {
            "text/plain": [
              "array([4.92824242])"
            ]
          },
          "metadata": {},
          "execution_count": 44
        }
      ]
    },
    {
      "cell_type": "markdown",
      "source": [
        "So when should you use plain Linear Regression (i.e., without any regularization),\n",
        "Ridge, Lasso, or Elastic Net? It is almost always preferable to have at least a little bit of\n",
        "regularization, so generally you should avoid plain Linear Regression. Ridge is a good\n",
        "default, but if you suspect that only a few features are actually useful, you should pre‐\n",
        "fer Lasso or Elastic Net since they tend to reduce the useless features’ weights down to\n",
        "zero as we have discussed. In general, Elastic Net is preferred over Lasso since Lasso\n",
        "may behave erratically when the number of features is greater than the number of\n",
        "training instances or when several features are strongly correlated"
      ],
      "metadata": {
        "id": "KZbt-zMOLid6"
      }
    },
    {
      "cell_type": "markdown",
      "source": [
        "####Elastic NET"
      ],
      "metadata": {
        "id": "eFJev838Ln3q"
      }
    },
    {
      "cell_type": "code",
      "source": [
        "from sklearn.linear_model import ElasticNet\n",
        "elastic_net=ElasticNet(alpha=0.1,l1_ratio=0.5)\n",
        "elastic_net.fit(X,y)\n",
        "elastic_net.predict([[1.5]])"
      ],
      "metadata": {
        "colab": {
          "base_uri": "https://localhost:8080/"
        },
        "id": "LEexr93DLRiJ",
        "outputId": "5fddc191-5294-4b2e-f146-c9e78ba42590"
      },
      "execution_count": null,
      "outputs": [
        {
          "output_type": "execute_result",
          "data": {
            "text/plain": [
              "array([4.93093162])"
            ]
          },
          "metadata": {},
          "execution_count": 46
        }
      ]
    },
    {
      "cell_type": "code",
      "source": [],
      "metadata": {
        "id": "lay55DHSMACE"
      },
      "execution_count": null,
      "outputs": []
    }
  ]
}